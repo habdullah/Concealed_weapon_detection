{
 "cells": [
  {
   "cell_type": "code",
   "execution_count": 1,
   "metadata": {
    "collapsed": true
   },
   "outputs": [],
   "source": [
    "import numpy as np\n"
   ]
  },
  {
   "cell_type": "code",
   "execution_count": 2,
   "metadata": {
    "collapsed": true
   },
   "outputs": [],
   "source": [
    "x=np.load(\"Without_jacket.npy\")\n",
    "    \n",
    "x2=np.load('With_jacket.npy')"
   ]
  },
  {
   "cell_type": "code",
   "execution_count": 3,
   "metadata": {
    "collapsed": true
   },
   "outputs": [],
   "source": [
    "#new without__jacket\n",
    "new_wo_j=[[None]*160000]*27\n",
    "new_w_j=[[None]*160000]*27\n",
    "\n",
    "def convert(source,dest,label):\n",
    "    #tmp placeholder\n",
    "    co= [[None]*400]*200\n",
    "    cross= [[None]*400]*200\n",
    "\n",
    "    for i in range(len(source)):\n",
    "        x_1=source[i][:200000]\n",
    "        x_2=source[i][200000:400000]\n",
    "        x_1=x_1.reshape(200,1000)\n",
    "        x_2=x_2.reshape(200,1000)\n",
    "\n",
    "    #     converts (200,1000-)->(200,1024)\n",
    "        for j in range(200):\n",
    "            fft_result_co=np.abs(np.fft.fft(x_1[j],1024))\n",
    "            fft_result_cross=np.abs(np.fft.fft(x_2[j],1024))\n",
    "            first200 = fft_result_co[:200]\n",
    "            last200=fft_result_co[824:]\n",
    "            co[j]=np.concatenate([first200,last200])\n",
    "            first200 = fft_result_cross[:200]\n",
    "            last200=fft_result_cross[824:]\n",
    "            cross[j]=np.concatenate([first200,last200])\n",
    "\n",
    "    #     at this point tmp placeholders have trimmed fft data\n",
    "    #     print np.array(co).shape\n",
    "    #     print np.array(cross).shape\n",
    "       \n",
    "    \n",
    "        co=np.array(co).reshape(80000,)\n",
    "        cross=np.array(cross).reshape(80000,)\n",
    "        dest[i]=list(co)+list(cross)+[label]\n",
    "    #     print co.shape\n",
    "    #     print cross.shape\n",
    "        co= [[None]*400]*200\n",
    "        cross= [[None]*400]*200\n",
    "    \n",
    "convert(x,new_wo_j,0)\n",
    "convert(x2,new_w_j,1)\n",
    "\n",
    "\n",
    "\n",
    "    \n",
    "        \n",
    "        \n",
    "        "
   ]
  },
  {
   "cell_type": "code",
   "execution_count": 4,
   "metadata": {},
   "outputs": [
    {
     "name": "stdout",
     "output_type": "stream",
     "text": [
      "(27, 160001)\n",
      "(27, 160001)\n"
     ]
    }
   ],
   "source": [
    "print np.array(new_wo_j).shape\n",
    "print np.array(new_w_j).shape"
   ]
  },
  {
   "cell_type": "code",
   "execution_count": 19,
   "metadata": {},
   "outputs": [
    {
     "name": "stdout",
     "output_type": "stream",
     "text": [
      "(54, 160001)\n",
      "[ 0.  0.  0.  0.  1.  0.  1.  1.  1.  1.  1.  0.  0.  1.  0.  1.  1.  1.\n",
      "  0.  1.  0.  1.  1.  0.  0.  1.  0.  1.  0.  1.  1.  0.  1.  1.  1.  0.\n",
      "  1.  1.  0.  0.  1.  0.  1.  1.  0.  0.  0.  0.  0.  1.  0.  1.  0.  0.]\n",
      "(54, 160001)\n"
     ]
    }
   ],
   "source": [
    "x = new_wo_j+new_w_j\n",
    "print np.array(x).shape\n",
    "shuffle(x)\n",
    "print np.array(x)[:,-1]\n",
    "print np.array(x).shape\n",
    "np.save('alldata_new.npy',np.array(x))"
   ]
  },
  {
   "cell_type": "code",
   "execution_count": 85,
   "metadata": {
    "collapsed": true
   },
   "outputs": [],
   "source": [
    "#concatenating with jacket and without jacket. shuffling"
   ]
  },
  {
   "cell_type": "code",
   "execution_count": 16,
   "metadata": {
    "collapsed": true
   },
   "outputs": [],
   "source": [
    "# print np.array(new_wo_j+new_w_j).shape\n",
    "from random import shuffle\n",
    "# # alldata=new_wo_j+new_w_j\n",
    "# # shuffle(alldata)\n",
    "# print np.array(new_wo_j+new_w_j).shape\n",
    "# print new_wo_j+new_w_j[:1]\n",
    "# x = np.load('alldata.npy')\n",
    "# print x[5]"
   ]
  },
  {
   "cell_type": "code",
   "execution_count": 6,
   "metadata": {
    "collapsed": true
   },
   "outputs": [],
   "source": [
    "np.save('alldata.npy',np.array(new_wo_j+new_w_j))"
   ]
  },
  {
   "cell_type": "code",
   "execution_count": 86,
   "metadata": {
    "collapsed": true
   },
   "outputs": [],
   "source": [
    "#saving as CSV file"
   ]
  },
  {
   "cell_type": "code",
   "execution_count": 87,
   "metadata": {
    "collapsed": true
   },
   "outputs": [],
   "source": [
    "import pandas as pd\n",
    "df= pd.DataFrame(alldata)\n",
    "df.to_csv('alldata_new.csv')"
   ]
  },
  {
   "cell_type": "code",
   "execution_count": 89,
   "metadata": {
    "collapsed": true
   },
   "outputs": [],
   "source": [
    "#training script\n"
   ]
  },
  {
   "cell_type": "code",
   "execution_count": null,
   "metadata": {
    "collapsed": true
   },
   "outputs": [],
   "source": [
    "###########################\n",
    "#loading libs\n",
    "\n",
    "from keras import optimizers\n",
    "from keras.models import Sequential\n",
    "from keras.layers import TimeDistributed,Dense, Dropout, Activation,LSTM,Bidirectional,GaussianNoise\n",
    "from keras.optimizers import SGD\n",
    "import numpy as np\n",
    "from keras.utils import to_categorical\n",
    "from keras.preprocessing import sequence\n",
    "#uncomment these if you get tensorflow warnings\n",
    "#import os\n",
    "#os.environ['TF_CPP_MIN_LOG_LEVEL']='2'\n",
    "import tensorflow as tf\n",
    "import keras.backend.tensorflow_backend as KTF\n",
    "from keras.callbacks import TensorBoard\n",
    "from time import time\n",
    "import scipy.io as sio\n",
    "from keras.regularizers import l2\n",
    "from keras import regularizers\n",
    "\n",
    "import os\n",
    "os.environ['TF_CPP_MIN_LOG_LEVEL']='2'"
   ]
  },
  {
   "cell_type": "code",
   "execution_count": null,
   "metadata": {
    "collapsed": true
   },
   "outputs": [],
   "source": [
    "x1=np.load('home/hammad/data/alldata.npy')\n",
    "train = x1[:,:160000]\n",
    "trainy = x1[:,-1]\n",
    "\n",
    "print trainy[:10]\n",
    "\n",
    "test = train[-16:,:]\n",
    "testy = trainy[-16:,:]\n",
    "\n",
    "train=train[:-16]\n",
    "trainy=trainy[:-16]\n",
    "\n",
    "trainy = to_categorical(trainy, num_classes = 2)\n",
    "testy = to_categorical(testy, num_classes = 2)\n",
    "tensorboard = TensorBoard(log_dir=\"logs/{}\".format(time()))\n",
    "\n",
    "train = np.array(train)\n",
    "test = np.array(test)\n",
    "print 'train',train.shape\n",
    "print 'trainy',trainy.shape\n",
    "print 'test',test.shape\n",
    "print 'testy',testy.shape\n",
    "\n",
    "\n",
    "print 'train'\n",
    "for i in range(10):\n",
    "\tprint train[i]\n",
    "print 'test'\n",
    "for i in range(10):\n",
    "\tprint test[i]\n"
   ]
  },
  {
   "cell_type": "code",
   "execution_count": null,
   "metadata": {
    "collapsed": true
   },
   "outputs": [],
   "source": [
    "model = Sequential()\n",
    "model.add(Dense(100, input_dim=600000))\n",
    "model.add(Activation('relu'))\n",
    "model.add(Dropout(0.15))\n",
    "model.add(Dense(100))\n",
    "model.add(Activation('relu'))\n",
    "model.add(Dropout(0.15))\n",
    "model.add(Dense(100))\n",
    "model.add(Activation('relu'))\n",
    "model.add(Dropout(0.15))\n",
    "model.add(Dense(2, activation='softmax'))\n",
    "#model.add(Dense(2,W_regularizer=l2(0.01)))\n",
    "\n",
    "model.compile(optimizer='sgd',\n",
    "              loss='categorical_crossentropy',\n",
    "              metrics=['accuracy'])\n",
    "\n",
    "\n",
    "# model.compile(loss='hinge',\n",
    "#               optimizer='adadelta',\n",
    "#               metrics=['accuracy'])\n",
    "\n",
    "\n",
    "hist=model.fit(train,trainy,verbose = 1,validation_split=0.3,epochs=50,callbacks=[tensorboard])\n",
    "\n",
    "score = model.evaluate(test, testy)\n",
    "model.save(\"vestdetect_model\")\n",
    "print score"
   ]
  },
  {
   "cell_type": "code",
   "execution_count": 74,
   "metadata": {},
   "outputs": [
    {
     "data": {
      "image/png": "[encoded data removed]",
      "text/plain": [
       "<matplotlib.figure.Figure at 0x7fb6f3c6be10>"
      ]
     },
     "metadata": {},
     "output_type": "display_data"
    }
   ],
   "source": [
    "plt.scatter([i for i in range(160000)],new_w_j[0],s=1)\n",
    "plt.show()"
   ]
  },
  {
   "cell_type": "code",
   "execution_count": 4,
   "metadata": {},
   "outputs": [
    {
     "name": "stdout",
     "output_type": "stream",
     "text": [
      "(27, 600001)\n"
     ]
    }
   ],
   "source": [
    "print x.shape"
   ]
  },
  {
   "cell_type": "code",
   "execution_count": 8,
   "metadata": {
    "scrolled": true
   },
   "outputs": [
    {
     "name": "stdout",
     "output_type": "stream",
     "text": [
      "(200, 1000)\n",
      "(200, 1000)\n"
     ]
    }
   ],
   "source": [
    "x_1=x[0][:200000]\n",
    "x_2=x[0][200000:400000]\n",
    "\n",
    "x_1=x_1.reshape(200,1000)\n",
    "x_2=x_2.reshape(200,1000)\n",
    "print x_1.shape\n",
    "print x_2.shape\n",
    "\n"
   ]
  },
  {
   "cell_type": "code",
   "execution_count": 20,
   "metadata": {},
   "outputs": [
    {
     "ename": "NameError",
     "evalue": "name 'plt' is not defined",
     "output_type": "error",
     "traceback": [
      "\u001b[0;31m---------------------------------------------------------------------------\u001b[0m",
      "\u001b[0;31mNameError\u001b[0m                                 Traceback (most recent call last)",
      "\u001b[0;32m<ipython-input-20-2c7c8740ccdd>\u001b[0m in \u001b[0;36m<module>\u001b[0;34m()\u001b[0m\n\u001b[0;32m----> 1\u001b[0;31m \u001b[0mplt\u001b[0m\u001b[0;34m.\u001b[0m\u001b[0mscatter\u001b[0m\u001b[0;34m(\u001b[0m\u001b[0;34m[\u001b[0m\u001b[0mi\u001b[0m \u001b[0;32mfor\u001b[0m \u001b[0mi\u001b[0m \u001b[0;32min\u001b[0m \u001b[0mrange\u001b[0m\u001b[0;34m(\u001b[0m\u001b[0;36m1024\u001b[0m\u001b[0;34m)\u001b[0m\u001b[0;34m]\u001b[0m\u001b[0;34m,\u001b[0m\u001b[0mnp\u001b[0m\u001b[0;34m.\u001b[0m\u001b[0mabs\u001b[0m\u001b[0;34m(\u001b[0m\u001b[0mnp\u001b[0m\u001b[0;34m.\u001b[0m\u001b[0mfft\u001b[0m\u001b[0;34m.\u001b[0m\u001b[0mfft\u001b[0m\u001b[0;34m(\u001b[0m\u001b[0mx_1\u001b[0m\u001b[0;34m[\u001b[0m\u001b[0;36m0\u001b[0m\u001b[0;34m]\u001b[0m\u001b[0;34m,\u001b[0m\u001b[0;36m1024\u001b[0m\u001b[0;34m)\u001b[0m\u001b[0;34m)\u001b[0m\u001b[0;34m,\u001b[0m\u001b[0ms\u001b[0m\u001b[0;34m=\u001b[0m\u001b[0;36m10\u001b[0m\u001b[0;34m)\u001b[0m\u001b[0;34m\u001b[0m\u001b[0m\n\u001b[0m\u001b[1;32m      2\u001b[0m \u001b[0mplt\u001b[0m\u001b[0;34m.\u001b[0m\u001b[0mshow\u001b[0m\u001b[0;34m(\u001b[0m\u001b[0;34m)\u001b[0m\u001b[0;34m\u001b[0m\u001b[0m\n",
      "\u001b[0;31mNameError\u001b[0m: name 'plt' is not defined"
     ]
    }
   ],
   "source": [
    "plt.scatter([i for i in range(1024)],np.abs(np.fft.fft(x_1[0],1024)),s=10)\n",
    "plt.show()"
   ]
  },
  {
   "cell_type": "code",
   "execution_count": 9,
   "metadata": {
    "collapsed": true
   },
   "outputs": [],
   "source": [
    "import matplotlib.pyplot as plt\n",
    "import scipy.fftpack"
   ]
  },
  {
   "cell_type": "code",
   "execution_count": 69,
   "metadata": {},
   "outputs": [
    {
     "name": "stdout",
     "output_type": "stream",
     "text": [
      "(27, 1024)\n",
      "(27, 1024)\n"
     ]
    }
   ],
   "source": [
    "y= [[None]*1024]*27\n",
    "y2=[[None]*1024]*27\n",
    "print np.array(y).shape\n",
    "print np.array(y2).shape"
   ]
  },
  {
   "cell_type": "code",
   "execution_count": 172,
   "metadata": {},
   "outputs": [
    {
     "name": "stdout",
     "output_type": "stream",
     "text": [
      "(1024,)\n",
      "(1024,)\n"
     ]
    }
   ],
   "source": [
    "for i in range(27):\n",
    "    y[i]= np.abs(np.fft.fft(x[i],1024))\n",
    "    y2[i]= np.abs(np.fft.fft(x2[i],1024))\n",
    "print y[i].shape\n",
    "print y2[i].shape"
   ]
  },
  {
   "cell_type": "code",
   "execution_count": 10,
   "metadata": {},
   "outputs": [
    {
     "name": "stdout",
     "output_type": "stream",
     "text": [
      "Current size: [6.0, 4.0]\n",
      "New size: [20, 10]\n"
     ]
    }
   ],
   "source": [
    "fig_size = plt.rcParams[\"figure.figsize\"]\n",
    "print \"Current size:\", fig_size\n",
    " \n",
    "# Set figure width to 12 and height to 9\n",
    "fig_size[0] = 20\n",
    "fig_size[1] = 10\n",
    "plt.rcParams[\"figure.figsize\"] = fig_size\n",
    "print \"New size:\", fig_size"
   ]
  },
  {
   "cell_type": "code",
   "execution_count": 173,
   "metadata": {},
   "outputs": [
    {
     "data": {
      "image/png": "[encoded data removed]",
      "text/plain": [
       "<matplotlib.figure.Figure at 0x7f043e2d7ad0>"
      ]
     },
     "metadata": {},
     "output_type": "display_data"
    },
    {
     "data": {
      "image/png": "[encoded data removed]",
      "text/plain": [
       "<matplotlib.figure.Figure at 0x7f043e917a10>"
      ]
     },
     "metadata": {},
     "output_type": "display_data"
    }
   ],
   "source": [
    "plt.scatter([i for i in range(1024)],y[0],s=10)\n",
    "plt.show()\n",
    "plt.scatter([i for i in range(1024)],y2[0],s=10,c='red')\n",
    "plt.show()\n"
   ]
  },
  {
   "cell_type": "code",
   "execution_count": null,
   "metadata": {
    "collapsed": true
   },
   "outputs": [],
   "source": [
    "#creating placeholders"
   ]
  },
  {
   "cell_type": "code",
   "execution_count": 174,
   "metadata": {
    "scrolled": true
   },
   "outputs": [
    {
     "name": "stdout",
     "output_type": "stream",
     "text": [
      "without (27, 400)\n",
      "with (27, 401)\n"
     ]
    }
   ],
   "source": [
    "new_without_jacket_data=[[None]*400]*27\n",
    "print 'without',np.array(new_without_jacket_data).shape\n",
    "new_with_jacket_data=[[None]*401]*27\n",
    "print 'with',np.array(new_with_jacket_data).shape"
   ]
  },
  {
   "cell_type": "code",
   "execution_count": null,
   "metadata": {
    "collapsed": true
   },
   "outputs": [],
   "source": [
    "#trimming"
   ]
  },
  {
   "cell_type": "code",
   "execution_count": 175,
   "metadata": {},
   "outputs": [
    {
     "name": "stdout",
     "output_type": "stream",
     "text": [
      "(27, 401)\n"
     ]
    }
   ],
   "source": [
    "temp = np.array(y)[:,:200]\n",
    "last200=np.array(y)[:,824:]\n",
    "for i in range(27):\n",
    "    #print i.shape\n",
    "    new_without_jacket_data[i]=np.concatenate([temp[i],last200[i],[0]])\n",
    "#print new_without_jacket_data[0]    \n",
    "new_without_jacket_data= np.array(new_without_jacket_data)\n",
    "print new_without_jacket_data.shape\n",
    "\n",
    "\n"
   ]
  },
  {
   "cell_type": "code",
   "execution_count": 176,
   "metadata": {},
   "outputs": [
    {
     "name": "stdout",
     "output_type": "stream",
     "text": [
      "(27, 401)\n"
     ]
    }
   ],
   "source": [
    "temp = np.array(y2)[:,:200]\n",
    "last200=np.array(y2)[:,824:]\n",
    "for i in range(27):\n",
    "    #print i.shape\n",
    "    new_with_jacket_data[i]=np.concatenate([temp[i],last200[i],[1]])\n",
    "    \n",
    "new_with_jacket_data= np.array(new_with_jacket_data)\n",
    "print new_with_jacket_data.shape\n"
   ]
  },
  {
   "cell_type": "code",
   "execution_count": 155,
   "metadata": {},
   "outputs": [
    {
     "data": {
      "text/plain": [
       "numpy.ndarray"
      ]
     },
     "execution_count": 155,
     "metadata": {},
     "output_type": "execute_result"
    }
   ],
   "source": [
    "#concatinating and shuffling\n",
    "type(new_without_jacket_data)"
   ]
  },
  {
   "cell_type": "code",
   "execution_count": 177,
   "metadata": {},
   "outputs": [
    {
     "name": "stdout",
     "output_type": "stream",
     "text": [
      "(54, 401)\n",
      "[  6.48768000e+05   2.28266962e+05   3.84849076e+05   2.97759241e+05\n",
      "   9.02636361e+04   1.29419485e+05   5.80408221e+04   6.69589239e+04\n",
      "   5.89209517e+04   9.53043322e+04   6.35838538e+04   7.16916136e+04\n",
      "   8.26944019e+04   6.54064006e+04   8.11005707e+04   6.42103253e+04\n",
      "   6.17217706e+04   6.66154294e+04   5.90668092e+04   6.49683093e+04\n",
      "   5.41364644e+04   6.18005466e+04   5.45300924e+04   6.13024206e+04\n",
      "   5.23936272e+04   5.47849773e+04   5.23631596e+04   5.13455922e+04\n",
      "   5.18877380e+04   5.01532849e+04   5.25421904e+04   4.94755736e+04\n",
      "   5.21919532e+04   4.96680880e+04   4.89181092e+04   4.62082282e+04\n",
      "   4.75570989e+04   4.61458935e+04   4.53149020e+04   4.48791473e+04\n",
      "   4.31421968e+04   4.20666966e+04   4.00379042e+04   3.92832876e+04\n",
      "   3.64587031e+04   3.64417683e+04   3.50372492e+04   3.26900961e+04\n",
      "   2.95011230e+04   2.84823850e+04   2.81509464e+04   2.66550929e+04\n",
      "   2.32856691e+04   2.12637234e+04   1.86806961e+04   1.83145850e+04\n",
      "   1.78306970e+04   1.71226595e+04   1.47195430e+04   1.39811947e+04\n",
      "   1.19256864e+04   7.51701367e+03   5.20316455e+03   8.40415693e+03\n",
      "   1.13712614e+04   1.10499335e+04   7.37683944e+03   4.29445317e+03\n",
      "   4.27052955e+03   4.51283297e+03   4.79426137e+03   3.17691602e+03\n",
      "   6.02211458e+02   8.36000894e+02   1.01451858e+03   1.30078383e+03\n",
      "   3.29919463e+03   5.27731931e+03   6.35612578e+03   6.63706555e+03\n",
      "   7.63310941e+03   8.14376269e+03   8.45763662e+03   8.04550843e+03\n",
      "   8.62202476e+03   1.10022900e+04   1.21574158e+04   1.25708926e+04\n",
      "   1.21316277e+04   1.17568708e+04   1.08184533e+04   8.76745598e+03\n",
      "   1.89238360e+04   1.41023822e+04   1.80882516e+04   9.04803478e+03\n",
      "   6.67052820e+03   1.65808914e+04   1.73096338e+04   1.96188521e+04\n",
      "   1.41878263e+04   1.42992756e+04   1.17627981e+04   1.42302431e+04\n",
      "   1.37607307e+04   1.34016884e+04   1.36761515e+04   1.20759266e+04\n",
      "   1.25260774e+04   1.29389598e+04   1.31666052e+04   1.19733516e+04\n",
      "   1.26551175e+04   1.33358878e+04   1.28121490e+04   1.17363540e+04\n",
      "   1.16487234e+04   1.13726738e+04   1.25336531e+04   1.16324791e+04\n",
      "   1.04246130e+04   1.02129961e+04   9.63327256e+03   9.53246535e+03\n",
      "   8.40841782e+03   7.61169938e+03   7.44227983e+03   7.65349642e+03\n",
      "   7.50162387e+03   7.07962426e+03   5.15629392e+03   5.76104371e+03\n",
      "   5.16631845e+03   3.77919436e+03   3.66888135e+03   2.65781934e+03\n",
      "   3.18314893e+03   1.38783678e+03   1.13130717e+03   1.12154346e+03\n",
      "   1.37675556e+03   1.00821713e+03   1.21436632e+03   1.56727415e+03\n",
      "   1.34250682e+03   1.84100498e+03   2.45580259e+03   3.95041528e+03\n",
      "   3.28844131e+03   3.25862456e+03   3.57172575e+03   3.74201181e+03\n",
      "   3.25284214e+03   3.51651810e+03   3.94109692e+03   5.32700106e+03\n",
      "   5.45866544e+03   5.38240967e+03   5.52835850e+03   6.12437095e+03\n",
      "   6.06666765e+03   7.47320232e+03   6.99096101e+03   7.79124423e+03\n",
      "   7.75639295e+03   8.03057790e+03   8.07332584e+03   8.30952763e+03\n",
      "   9.14426317e+03   8.34188226e+03   8.21451725e+03   8.21259477e+03\n",
      "   8.35246482e+03   8.28215111e+03   8.28579271e+03   8.10348644e+03\n",
      "   8.84355468e+03   7.54751732e+03   7.65195170e+03   7.27764122e+03\n",
      "   8.05359907e+03   7.42261901e+03   6.31363580e+03   6.67732196e+03\n",
      "   5.69551280e+03   5.95337830e+03   6.06018815e+03   5.49496850e+03\n",
      "   5.40130422e+03   4.98953546e+03   4.98754223e+03   3.80773932e+03\n",
      "   4.22877799e+03   4.25347207e+03   4.24810159e+03   4.54471864e+03\n",
      "   3.94643287e+03   3.51800575e+03   4.38180895e+03   3.08695252e+03\n",
      "   4.14950670e+03   3.08695252e+03   4.38180895e+03   3.51800575e+03\n",
      "   3.94643287e+03   4.54471864e+03   4.24810159e+03   4.25347207e+03\n",
      "   4.22877799e+03   3.80773932e+03   4.98754223e+03   4.98953546e+03\n",
      "   5.40130422e+03   5.49496850e+03   6.06018815e+03   5.95337830e+03\n",
      "   5.69551280e+03   6.67732196e+03   6.31363580e+03   7.42261901e+03\n",
      "   8.05359907e+03   7.27764122e+03   7.65195170e+03   7.54751732e+03\n",
      "   8.84355468e+03   8.10348644e+03   8.28579271e+03   8.28215111e+03\n",
      "   8.35246482e+03   8.21259477e+03   8.21451725e+03   8.34188226e+03\n",
      "   9.14426317e+03   8.30952763e+03   8.07332584e+03   8.03057790e+03\n",
      "   7.75639295e+03   7.79124423e+03   6.99096101e+03   7.47320232e+03\n",
      "   6.06666765e+03   6.12437095e+03   5.52835850e+03   5.38240967e+03\n",
      "   5.45866544e+03   5.32700106e+03   3.94109692e+03   3.51651810e+03\n",
      "   3.25284214e+03   3.74201181e+03   3.57172575e+03   3.25862456e+03\n",
      "   3.28844131e+03   3.95041528e+03   2.45580259e+03   1.84100498e+03\n",
      "   1.34250682e+03   1.56727415e+03   1.21436632e+03   1.00821713e+03\n",
      "   1.37675556e+03   1.12154346e+03   1.13130717e+03   1.38783678e+03\n",
      "   3.18314893e+03   2.65781934e+03   3.66888135e+03   3.77919436e+03\n",
      "   5.16631845e+03   5.76104371e+03   5.15629392e+03   7.07962426e+03\n",
      "   7.50162387e+03   7.65349642e+03   7.44227983e+03   7.61169938e+03\n",
      "   8.40841782e+03   9.53246535e+03   9.63327256e+03   1.02129961e+04\n",
      "   1.04246130e+04   1.16324791e+04   1.25336531e+04   1.13726738e+04\n",
      "   1.16487234e+04   1.17363540e+04   1.28121490e+04   1.33358878e+04\n",
      "   1.26551175e+04   1.19733516e+04   1.31666052e+04   1.29389598e+04\n",
      "   1.25260774e+04   1.20759266e+04   1.36761515e+04   1.34016884e+04\n",
      "   1.37607307e+04   1.42302431e+04   1.17627981e+04   1.42992756e+04\n",
      "   1.41878263e+04   1.96188521e+04   1.73096338e+04   1.65808914e+04\n",
      "   6.67052820e+03   9.04803478e+03   1.80882516e+04   1.41023822e+04\n",
      "   1.89238360e+04   8.76745598e+03   1.08184533e+04   1.17568708e+04\n",
      "   1.21316277e+04   1.25708926e+04   1.21574158e+04   1.10022900e+04\n",
      "   8.62202476e+03   8.04550843e+03   8.45763662e+03   8.14376269e+03\n",
      "   7.63310941e+03   6.63706555e+03   6.35612578e+03   5.27731931e+03\n",
      "   3.29919463e+03   1.30078383e+03   1.01451858e+03   8.36000894e+02\n",
      "   6.02211458e+02   3.17691602e+03   4.79426137e+03   4.51283297e+03\n",
      "   4.27052955e+03   4.29445317e+03   7.37683944e+03   1.10499335e+04\n",
      "   1.13712614e+04   8.40415693e+03   5.20316455e+03   7.51701367e+03\n",
      "   1.19256864e+04   1.39811947e+04   1.47195430e+04   1.71226595e+04\n",
      "   1.78306970e+04   1.83145850e+04   1.86806961e+04   2.12637234e+04\n",
      "   2.32856691e+04   2.66550929e+04   2.81509464e+04   2.84823850e+04\n",
      "   2.95011230e+04   3.26900961e+04   3.50372492e+04   3.64417683e+04\n",
      "   3.64587031e+04   3.92832876e+04   4.00379042e+04   4.20666966e+04\n",
      "   4.31421968e+04   4.48791473e+04   4.53149020e+04   4.61458935e+04\n",
      "   4.75570989e+04   4.62082282e+04   4.89181092e+04   4.96680880e+04\n",
      "   5.21919532e+04   4.94755736e+04   5.25421904e+04   5.01532849e+04\n",
      "   5.18877380e+04   5.13455922e+04   5.23631596e+04   5.47849773e+04\n",
      "   5.23936272e+04   6.13024206e+04   5.45300924e+04   6.18005466e+04\n",
      "   5.41364644e+04   6.49683093e+04   5.90668092e+04   6.66154294e+04\n",
      "   6.17217706e+04   6.42103253e+04   8.11005707e+04   6.54064006e+04\n",
      "   8.26944019e+04   7.16916136e+04   6.35838538e+04   9.53043322e+04\n",
      "   5.89209517e+04   6.69589239e+04   5.80408221e+04   1.29419485e+05\n",
      "   9.02636361e+04   2.97759241e+05   3.84849076e+05   2.28266962e+05\n",
      "   0.00000000e+00]\n"
     ]
    }
   ],
   "source": [
    "alldata=np.concatenate([new_with_jacket_data,new_without_jacket_data])\n",
    "print alldata.shape\n",
    "np.random.shuffle(alldata)\n",
    "print alldata[0]"
   ]
  },
  {
   "cell_type": "code",
   "execution_count": 165,
   "metadata": {
    "collapsed": true
   },
   "outputs": [],
   "source": [
    "array =np.asarray(alldata)\n",
    "np.savetxt('alldata.csv',array,delimiter=',')"
   ]
  },
  {
   "cell_type": "code",
   "execution_count": 178,
   "metadata": {
    "collapsed": true
   },
   "outputs": [],
   "source": [
    "import pandas as pd \n",
    "df = pd.DataFrame(alldata)\n",
    "df.to_csv(\"alldata.csv\")"
   ]
  },
  {
   "cell_type": "code",
   "execution_count": 163,
   "metadata": {},
   "outputs": [
    {
     "data": {
      "image/png": "[encoded data removed]",
      "text/plain": [
       "<matplotlib.figure.Figure at 0x7f0440ecf1d0>"
      ]
     },
     "metadata": {},
     "output_type": "display_data"
    }
   ],
   "source": [
    "\n",
    "N = 1024\n",
    "\n",
    "# sample spacing\n",
    "T = 1.0 / 800.0\n",
    "\n",
    "\n",
    "xf = np.linspace(0.0, 1.0/(2.0*T), N)\n",
    "\n",
    "fig, ax = plt.subplots()\n",
    "ax.plot(xf, 2.0/N * np.abs(y[9][:N]))\n",
    "plt.show()"
   ]
  },
  {
   "cell_type": "code",
   "execution_count": 98,
   "metadata": {},
   "outputs": [
    {
     "data": {
      "image/png": "[encoded data removed]",
      "text/plain": [
       "<matplotlib.figure.Figure at 0x7f2c4fd0b710>"
      ]
     },
     "metadata": {},
     "output_type": "display_data"
    }
   ],
   "source": [
    "N = 1024\n",
    "\n",
    "# sample spacing\n",
    "T = 1.0 / 800.0\n",
    "\n",
    "\n",
    "xf = np.linspace(0.0, 1.0/(2.0*T), N)\n",
    "\n",
    "fig, ax = plt.subplots()\n",
    "ax.plot(xf, 2.0/N * np.abs(y[9][:N]))\n",
    "# plt.figure(figsize=(40,10))\n",
    "plt.show()"
   ]
  },
  {
   "cell_type": "code",
   "execution_count": 56,
   "metadata": {},
   "outputs": [
    {
     "data": {
      "text/plain": [
       "[<matplotlib.lines.Line2D at 0x7f2c4e0800d0>,\n",
       " <matplotlib.lines.Line2D at 0x7f2c4e0802d0>]"
      ]
     },
     "execution_count": 56,
     "metadata": {},
     "output_type": "execute_result"
    }
   ],
   "source": [
    "plt.plot(y[0], sp.real,y[0], sp.imag)\n"
   ]
  },
  {
   "cell_type": "code",
   "execution_count": 83,
   "metadata": {
    "collapsed": true
   },
   "outputs": [],
   "source": [
    "plt.show()"
   ]
  },
  {
   "cell_type": "code",
   "execution_count": null,
   "metadata": {
    "collapsed": true
   },
   "outputs": [],
   "source": []
  }
 ],
 "metadata": {
  "kernelspec": {
   "display_name": "Python 2",
   "language": "python",
   "name": "python2"
  },
  "language_info": {
   "codemirror_mode": {
    "name": "ipython",
    "version": 2
   },
   "file_extension": ".py",
   "mimetype": "text/x-python",
   "name": "python",
   "nbconvert_exporter": "python",
   "pygments_lexer": "ipython2",
   "version": "2.7.12"
  }
 },
 "nbformat": 4,
 "nbformat_minor": 2
}
